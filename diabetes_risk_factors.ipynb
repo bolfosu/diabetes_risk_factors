# Assignment 7 
## Diabetes risk factors

## Purpose
The purpose of this assignment  is to identify markers that can indicate a risc of diabetes. 
and to explore if  we can  create a short form of questions that accurately predicts diabetes or high diabetes risk through feature selection.
The dataset originally has 454 features, but based USA Institute of Diabetes Diseaes studies https://www.niddk.nih.gov/health-information/diabetes/overview/risk-factors-type-2-diabetes where identified folowing Type 2 diabetes  risk factors:

*   Blood pressure (high)
*   Cholesterol (high)
*   Smoking
*   Family history
*   Obesity
*   Age
*   Sex
*   Race
*   Diet
*   Physical activity
*   Alcohol consumption
*   BMI
*   Household Income
*   Sleep behaviour
*   Education level
*   Mental Health
### Selected  features from BRFSS 2015
Considering the diabetes risk factors we identified the folowing relevant features in the BRFSS dataset. To interpret the columns accurately, we consulted the BRFSS 2015 Codebook to understand the questions and their context.

**Dataset source:** https://www.kaggle.com/datasets/cdc/behavioral-risk-factor-surveillance-system

**BRFSS 2015 Codebook:** https://www.cdc.gov/brfss/annual_data/2015/pdf/codebook15_llcp.pdf


**Diabetes questions**
*   (Ever told) you have diabetes (If "Yes" and respondent is female, ask "Was this only when you were pregnant?". If Respondent says pre-diabetes or borderline diabetes, use response code 4.) - DIABETE3

**Chronic Health Conditions**
*   (Ever told) you had a stroke. - CVDSTRK3
*   Respondents that have ever reported having coronary heart disease (CHD) or myocardial infarction (MI) - _MICHD


**High Blood Pressure**
*   Adults who have been told they have high blood pressure by a doctor, nurse, or other health professional - _RFHYPE5

**High Cholesterol**
*   Have you EVER been told by a doctor, nurse or other health professional that your blood cholesterol is high? - TOLDHI2
*   Cholesterol check within past five years - _CHOLCHK

**BMI**
*   Body Mass Index (BMI) - _BMI5

**Demographics questions**
*   Indicate sex of respondent. - SEX
*   Fourteen-level age category - _AGEG5YR
*   What is the highest grade or year of school you completed? - EDUCA
*   Is your annual household income from all sources: (If respondent refuses at any income level, code "Refused.") - INCOME2

**Smoking**
*   Have you smoked at least 100 cigarettes in your entire life? - SMOKE100


**Physical Activity**
*   Adults who reported doing physical activity or exercise during the past 30 days other than their regular job - _TOTINDA

**Nutrition questions**
*   Consume Fruit 1 or more times per day - _FRTLT1
*   Consume Vegetables 1 or more times per day - _VEGLT1

**Alcohol Consumption**
*   Heavy drinkers (adult men having more than 14 drinks per week and adult women having more than 7 drinks per week) - _RFDRHV5


**Health questions**
*   Would you say that in general your health is: - GENHLTH
*   Do you have serious difficulty walking or climbing stairs? - DIFFWALK


#imports
import os
import pandas as pd
import numpy as np
import random
random.seed(1)

# We chose the 2015 dataset because it contains the largest amount of survey data from last 20 years.
brfss_2015_dataset = pd.read_csv('behavioral-risk-factor-surveillance-system-2015.csv')

#How many rows and columns
brfss_2015_dataset.shape
**Currently, our dataset consists of 441456 records, each with 330 columns. Every record represents an individual's responses to the BRFSS survey.**
# select relevant columns
brfss_df_selected = brfss_2015_dataset[['DIABETE3',
                                         '_RFHYPE5',  
                                         'TOLDHI2', '_CHOLCHK', 
                                         '_BMI5', 
                                         'SMOKE100', 
                                         'CVDSTRK3', '_MICHD', 
                                         '_TOTINDA', 
                                         '_FRTLT1', '_VEGLT1', 
                                         '_RFDRHV5', 
                                         'GENHLTH',  'DIFFWALK', 
                                         'SEX', '_AGEG5YR', 'EDUCA', 'INCOME2' ]]

brfss_df_selected.head()
# Modify and clean the data
# Drop mising values
brfss_df_selected = brfss_df_selected.dropna()

# DIABETE3
#  make this ordinal. 0 is for no diabetes or only during pregnancy, 1 is for pre-diabetes or borderline diabetes, 2 is for yes diabetes
# Remove all 7 (dont knows)
# Remove all 9 (refused)
brfss_df_selected['DIABETE3'] = brfss_df_selected['DIABETE3'].replace({2:0, 3:0, 1:2, 4:1})
brfss_df_selected = brfss_df_selected[brfss_df_selected.DIABETE3 != 7]
brfss_df_selected = brfss_df_selected[brfss_df_selected.DIABETE3 != 9]
brfss_df_selected.DIABETE3.unique()


# _RFHYPE5
#Change 1 to 0 so it represetnts No high blood pressure and 2 to 1 so it represents high blood pressure
brfss_df_selected['_RFHYPE5'] = brfss_df_selected['_RFHYPE5'].replace({1:0, 2:1})
brfss_df_selected = brfss_df_selected[brfss_df_selected._RFHYPE5 != 9]
brfss_df_selected._RFHYPE5.unique()

# TOLDHI2
# Change 2 to 0 because it is No
# Remove all 7 (dont knows)
# Remove all 9 (refused)
brfss_df_selected['TOLDHI2'] = brfss_df_selected['TOLDHI2'].replace({2:0})
brfss_df_selected = brfss_df_selected[brfss_df_selected.TOLDHI2 != 7]
brfss_df_selected = brfss_df_selected[brfss_df_selected.TOLDHI2 != 9]
brfss_df_selected.TOLDHI2.unique()

# _CHOLCHK
# Change 3 to 0 and 2 to 0 for not checked cholesterol in past 5 years
# Remove 9
brfss_df_selected['_CHOLCHK'] = brfss_df_selected['_CHOLCHK'].replace({3:0,2:0})
brfss_df_selected = brfss_df_selected[brfss_df_selected._CHOLCHK != 9]
brfss_df_selected._CHOLCHK.unique()

# _BMI5 (no changes, but  these are BMI * 100. So for example a BMI of 4018 is  40.18)
brfss_df_selected['_BMI5'] = brfss_df_selected['_BMI5'].div(100).round(0)
brfss_df_selected._BMI5.unique()

# SMOKE100
# Change 2 to 0 because it is No
# Remove all 7 (dont knows)
# Remove all 9 (refused)
brfss_df_selected['SMOKE100'] = brfss_df_selected['SMOKE100'].replace({2:0})
brfss_df_selected = brfss_df_selected[brfss_df_selected.SMOKE100 != 7]
brfss_df_selected = brfss_df_selected[brfss_df_selected.SMOKE100 != 9]
brfss_df_selected.SMOKE100.unique()

# CVDSTRK3
# Change 2 to 0 because it is No
# Remove all 7 (dont knows)
# Remove all 9 (refused)
brfss_df_selected['CVDSTRK3'] = brfss_df_selected['CVDSTRK3'].replace({2:0})
brfss_df_selected = brfss_df_selected[brfss_df_selected.CVDSTRK3 != 7]
brfss_df_selected = brfss_df_selected[brfss_df_selected.CVDSTRK3 != 9]
brfss_df_selected.CVDSTRK3.unique()

# _MICHD
#Change 2 to 0 because this means did not have MI or CHD
brfss_df_selected['_MICHD'] = brfss_df_selected['_MICHD'].replace({2: 0})
brfss_df_selected._MICHD.unique()

# _TOTINDA
# 1 for physical activity
# change 2 to 0 for no physical activity
# Remove all 9 (don't know/refused)
brfss_df_selected['_TOTINDA'] = brfss_df_selected['_TOTINDA'].replace({2:0})
brfss_df_selected = brfss_df_selected[brfss_df_selected._TOTINDA != 9]
brfss_df_selected._TOTINDA.unique()

# _FRTLT1
# Change 2 to 0. this means no fruit consumed per day. 1 will mean consumed 1 or more pieces of fruit per day 
# remove all dont knows and missing 9
brfss_df_selected['_FRTLT1'] = brfss_df_selected['_FRTLT1'].replace({2:0})
brfss_df_selected = brfss_df_selected[brfss_df_selected._FRTLT1 != 9]
brfss_df_selected._FRTLT1.unique()

# _VEGLT1
# Change 2 to 0. this means no vegetables consumed per day. 1 will mean consumed 1 or more pieces of vegetable per day 
# remove all dont knows and missing 9
brfss_df_selected['_VEGLT1'] = brfss_df_selected['_VEGLT1'].replace({2:0})
brfss_df_selected = brfss_df_selected[brfss_df_selected._VEGLT1 != 9]
brfss_df_selected._VEGLT1.unique()

# _RFDRHV5
# Change 1 to 0 (1 was no for heavy drinking). change all 2 to 1 (2 was yes for heavy drinking)
# remove all dont knows and missing 9
brfss_df_selected['_RFDRHV5'] = brfss_df_selected['_RFDRHV5'].replace({1:0, 2:1})
brfss_df_selected = brfss_df_selected[brfss_df_selected._RFDRHV5 != 9]
brfss_df_selected._RFDRHV5.unique()

# GENHLTH
# This is an ordinal variable that we want to keep (1 is Excellent -> 5 is Poor)
# Remove 7 and 9 for don't know and refused
brfss_df_selected = brfss_df_selected[brfss_df_selected.GENHLTH != 7]
brfss_df_selected = brfss_df_selected[brfss_df_selected.GENHLTH != 9]
brfss_df_selected.GENHLTH.unique()

# DIFFWALK
# change 2 to 0 for no. 1 is already yes
# remove 7 and 9 for don't know not sure and refused
brfss_df_selected['DIFFWALK'] = brfss_df_selected['DIFFWALK'].replace({2:0})
brfss_df_selected = brfss_df_selected[brfss_df_selected.DIFFWALK != 7]
brfss_df_selected = brfss_df_selected[brfss_df_selected.DIFFWALK != 9]
brfss_df_selected.DIFFWALK.unique()

# SEX
# change 2 to 0 (female as 0). Male is 1
brfss_df_selected['SEX'] = brfss_df_selected['SEX'].replace({2:0})
brfss_df_selected.SEX.unique()

# _AGEG5YR
# already ordinal. 1 is 18-24 all the way up to 13 is 80 and older. 5 year increments.
# remove 14 because it is don't know or missing
brfss_df_selected = brfss_df_selected[brfss_df_selected._AGEG5YR != 14]
brfss_df_selected._AGEG5YR.unique()

# EDUCA
# This is already an ordinal variable with 1 being never attended school or kindergarten only up to 6 being college 4 years or more
# Scale here is 1-6
# Remove 9 for refused:
brfss_df_selected = brfss_df_selected[brfss_df_selected.EDUCA != 9]
brfss_df_selected.EDUCA.unique()

# INCOME2
# Variable is already ordinal with 1 being less than $10,000 all the way up to 8 being $75,000 or more
# Remove 77 and 99 for don't know and refused
brfss_df_selected = brfss_df_selected[brfss_df_selected.INCOME2 != 77]
brfss_df_selected = brfss_df_selected[brfss_df_selected.INCOME2 != 99]
brfss_df_selected.INCOME2.unique()

brfss_df_selected.shape

#Rename the columns to make them more readable
brfss = brfss_df_selected.rename(columns = {'DIABETE3':'Diabetes_012', 
                                         '_RFHYPE5':'HighBP',  
                                         'TOLDHI2':'HighChol', '_CHOLCHK':'CholCheck', 
                                         '_BMI5':'BMI', 
                                         'SMOKE100':'Smoker', 
                                         'CVDSTRK3':'Stroke', '_MICHD':'HeartDiseaseorAttack', 
                                         '_TOTINDA':'PhysActivity', 
                                         '_FRTLT1':'Fruits', '_VEGLT1':"Veggies", 
                                         '_RFDRHV5':'HvyAlcoholConsump', 
                                         'GENHLTH':'GenHlth',  'DIFFWALK':'DiffWalk', 
                                         'SEX':'Sex', '_AGEG5YR':'Age', 'EDUCA':'Education', 'INCOME2':'Income' })
brfss.groupby(['Diabetes_012']).size()
**Now we have 18 columns and 259,250 rows, of which 217,932 are non-diabetic, 4,783 are pre-diabetic, and 36,535 are diabetic.
To perform binary classification, we include prediabetics with diabetics because they have been informed by a doctor that they are at risk of developing diabetes. We aim to predict this risk, so we have 41,318 individuals at risk of diabetes and randomly select another 41,318 non-diabetics.**
#Copy old table to new one.
brfss_binary = brfss
# Change the diabetics (2) and pre-diabetics (1) to 1, so that we have 0 meaning non-diabetic and 1 meaning diabetic or pre-diabetic.
brfss_binary['Diabetes_012'] = brfss_binary['Diabetes_012'].replace({1: 1, 2: 1})

#Change the column name to Diabetes_binary
brfss_binary = brfss_binary.rename(columns = {'Diabetes_012': 'Diabetes_binary'})
brfss_binary.Diabetes_binary.unique()
#show class sizes
brfss_binary.groupby(['Diabetes_binary']).size()
#Separate the 0(No Diabetes) and 1&2(Pre-diabetes and Diabetes)
#Get the 1s
is1 = brfss_binary['Diabetes_binary'] == 1
brfss_5050_1 = brfss_binary[is1]

#Get the 0s
is0 = brfss_binary['Diabetes_binary'] == 0
brfss_5050_0 = brfss_binary[is0] 

#Select the 41318 random cases from the 0 (non-diabetes group). we already have 41318 cases from the diabetes risk group
brfss_5050_0_rand1 = brfss_5050_0.take(np.random.permutation(len(brfss_5050_0))[:41318])

#Concat the 41318 1s to the 41318 randomly selected 0s
brfss_5050 = pd.concat([brfss_5050_0_rand1, brfss_5050_1], ignore_index=True)

#See the classes are perfectly balanced now
brfss_5050.groupby(['Diabetes_binary']).size()
#Save full cleaned dataset
brfss.to_csv('diabetes_012_health_indicators.csv', sep=",", index=False)


#Save the 50-50 balanced dataset to csv
brfss_5050.to_csv('diabetes_binary_5050split_health_indicators.csv', sep=",", index=False)


#Save the original binary dataset to csv
brfss_binary.to_csv('diabetes_binary_health_indicators.csv', sep=",", index=False)
